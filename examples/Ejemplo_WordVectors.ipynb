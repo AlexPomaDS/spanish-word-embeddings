{
 "cells": [
  {
   "cell_type": "markdown",
   "metadata": {},
   "source": [
    "# Ejemplos de uso de word embeddings computados con FastText\n",
    "\n",
    "Primero cargamos los vectores/embeddings usando [gensim](https://radimrehurek.com/gensim/). Hay al menos dos formas posibles. La primera es cargar todos los vectores desde el archivo binario (.bin) en su formato nativo de FastText. Esta opción es más demandante en recursos (tiempo y memoria), pero es mucho más versatil por ejemplo para obtener vectores para palabras que no se ecuentran en el vocabulario. Esta forma se encuentra comentada en la siguiente celda"
   ]
  },
  {
   "cell_type": "code",
   "execution_count": 1,
   "metadata": {
    "collapsed": true
   },
   "outputs": [],
   "source": [
    "# opción 1: cargar todos los vectores desde el formato binario (lento, requiere mucha memoria)\n",
    "# from gensim.models.wrappers import FastText\n",
    "# wordvectors_file = 'fasttext-sbwc.3.6.e20'\n",
    "# wordvectors = FastText.load_fasttext_format(wordvectors_file).wv"
   ]
  },
  {
   "cell_type": "markdown",
   "metadata": {},
   "source": [
    "La segunda forma, mucho más rápida, es cargar sólo una parte de los vectores. Para esto usamos el formato nativo de word2vec y cargamos una cantidad fija de vectores (se pueden cargar vectores generados por diversos métodos como FastText)."
   ]
  },
  {
   "cell_type": "code",
   "execution_count": 2,
   "metadata": {},
   "outputs": [
    {
     "name": "stderr",
     "output_type": "stream",
     "text": [
      "Using Theano backend.\n"
     ]
    }
   ],
   "source": [
    "# opción 2: cargar una cantidad fija de vectores (más rápido dependiendo de la cantidad cargada)\n",
    "from gensim.models.keyedvectors import KeyedVectors\n",
    "wordvectors_file_vec = 'fasttext-sbwc.3.6.e20.vec'\n",
    "cantidad = 100000\n",
    "wordvectors = KeyedVectors.load_word2vec_format(wordvectors_file_vec, limit=cantidad).wv"
   ]
  },
  {
   "cell_type": "markdown",
   "metadata": {},
   "source": [
    "## Word vectors en analogías\n",
    "\n",
    "Ejemplo de uso: `most_similar_cosmul(positive=lista_palabras_positivas, negative=lista_palabras_negativas)`\n",
    "\n",
    "Esta llamada encuentra las palabras del vocabulario que están más cercanas a las palabras en `listas_palabras_positivas` y no estén cercanas a `lista_palabras_negativas` (para una formalización del procedimiento, ver la Sección 3 de [este artículo](http://www.aclweb.org/anthology/W14-1618)).\n",
    "\n",
    "Cuando `lista_palabras_positivas` contiene dos palabras, digamos `a` y `b_p`, y `lista_palabras_negativas` contiene una palabra, digamos `a_p`, el anterior procedimiento se lee coloquialmente como el encontrar la palabra `b` que responde a la pregunta: `a_p` es a `a` como `b_p` es a ???. El ejemplo clásico se tiene cuando `a` es `rey`, `b_p` es `mujer`, y `a_p` es `hombre`. La palabra buscada `b` es `reina`, pues `hombre` es a `rey` como `mujer` es a `reina`. (Personalmente considero que la intuición de palabras  más lejanas y más cercanas es mucho mejor que la de analogías, pero la de analogías es más común en los tutoriales de word embeddings). "
   ]
  },
  {
   "cell_type": "markdown",
   "metadata": {},
   "source": [
    "### Ejemplos considerando género"
   ]
  },
  {
   "cell_type": "code",
   "execution_count": 3,
   "metadata": {},
   "outputs": [
    {
     "data": {
      "text/plain": [
       "[('reina', 0.9141532778739929),\n",
       " ('infanta', 0.8582408428192139),\n",
       " ('berenguela', 0.8470728993415833),\n",
       " ('princesa', 0.8445042371749878),\n",
       " ('consorte', 0.835599422454834),\n",
       " ('emperatriz', 0.8247664570808411),\n",
       " ('regente', 0.8239887356758118),\n",
       " ('infantas', 0.8104739785194397),\n",
       " ('hermanastra', 0.8072930574417114),\n",
       " ('regencia', 0.8037241101264954)]"
      ]
     },
     "execution_count": 3,
     "metadata": {},
     "output_type": "execute_result"
    }
   ],
   "source": [
    "wordvectors.most_similar_cosmul(positive=['rey','mujer'],negative=['hombre'])"
   ]
  },
  {
   "cell_type": "code",
   "execution_count": 4,
   "metadata": {},
   "outputs": [
    {
     "data": {
      "text/plain": [
       "[('actriz', 0.9687138795852661),\n",
       " ('compositora', 0.8557133078575134),\n",
       " ('cantante', 0.8482002019882202),\n",
       " ('actrices', 0.845941424369812),\n",
       " ('dramaturga', 0.8354867696762085),\n",
       " ('presentadora', 0.8346402645111084),\n",
       " ('bailarina', 0.830103874206543),\n",
       " ('coprotagonista', 0.8284398317337036),\n",
       " ('guionista', 0.828334629535675),\n",
       " ('cantautora', 0.827379047870636)]"
      ]
     },
     "execution_count": 4,
     "metadata": {},
     "output_type": "execute_result"
    }
   ],
   "source": [
    "wordvectors.most_similar_cosmul(positive=['actor','mujer'],negative=['hombre'])"
   ]
  },
  {
   "cell_type": "code",
   "execution_count": 5,
   "metadata": {},
   "outputs": [
    {
     "data": {
      "text/plain": [
       "[('hija', 0.9641352295875549),\n",
       " ('esposa', 0.9116341471672058),\n",
       " ('madre', 0.9057636260986328),\n",
       " ('nieta', 0.8976945877075195),\n",
       " ('hermanastra', 0.8958925604820251),\n",
       " ('nuera', 0.8941904902458191),\n",
       " ('hijos', 0.8940641283988953),\n",
       " ('embarazada', 0.8930323123931885),\n",
       " ('primogénita', 0.8921582698822021),\n",
       " ('hermana', 0.8830597996711731)]"
      ]
     },
     "execution_count": 5,
     "metadata": {},
     "output_type": "execute_result"
    }
   ],
   "source": [
    "wordvectors.most_similar_cosmul(positive=['hijo','mujer'],negative=['hombre'])"
   ]
  },
  {
   "cell_type": "code",
   "execution_count": 6,
   "metadata": {},
   "outputs": [
    {
     "data": {
      "text/plain": [
       "[('nuera', 0.8991931080818176),\n",
       " ('cuñada', 0.8967029452323914),\n",
       " ('esposa', 0.879116415977478),\n",
       " ('hija', 0.8787108659744263),\n",
       " ('suegra', 0.8752366304397583),\n",
       " ('sobrina', 0.8678680658340454),\n",
       " ('hermanastra', 0.8615662455558777),\n",
       " ('viuda', 0.8587483167648315),\n",
       " ('yernos', 0.8577941656112671),\n",
       " ('nieta', 0.8574915528297424)]"
      ]
     },
     "execution_count": 6,
     "metadata": {},
     "output_type": "execute_result"
    }
   ],
   "source": [
    "wordvectors.most_similar_cosmul(positive=['yerno','mujer'],negative=['hombre'])"
   ]
  },
  {
   "cell_type": "markdown",
   "metadata": {},
   "source": [
    "### Ejemplos considerando conjugaciones"
   ]
  },
  {
   "cell_type": "code",
   "execution_count": 7,
   "metadata": {},
   "outputs": [
    {
     "data": {
      "text/plain": [
       "[('juega', 0.9270390272140503),\n",
       " ('jugará', 0.903049647808075),\n",
       " ('juegue', 0.8957996368408203),\n",
       " ('jugando', 0.8832089304924011),\n",
       " ('juegan', 0.868077278137207),\n",
       " ('jugado', 0.8658616542816162),\n",
       " ('jugó', 0.8645129799842834),\n",
       " ('juegas', 0.8533656597137451),\n",
       " ('jugaría', 0.8508267402648926),\n",
       " ('jugara', 0.8470847606658936)]"
      ]
     },
     "execution_count": 7,
     "metadata": {},
     "output_type": "execute_result"
    }
   ],
   "source": [
    "wordvectors.most_similar_cosmul(positive=['jugar','canta'],negative=['cantar'])"
   ]
  },
  {
   "cell_type": "code",
   "execution_count": 8,
   "metadata": {},
   "outputs": [
    {
     "data": {
      "text/plain": [
       "[('jugaría', 1.002570629119873),\n",
       " ('jugarían', 0.951291024684906),\n",
       " ('jugara', 0.9422449469566345),\n",
       " ('disputaría', 0.9186552166938782),\n",
       " ('jugará', 0.908361554145813),\n",
       " ('jugaran', 0.8989543914794922),\n",
       " ('jugase', 0.8874876499176025),\n",
       " ('disputarían', 0.8822468519210815),\n",
       " ('jugó', 0.8740344643592834),\n",
       " ('ficharía', 0.8733252286911011)]"
      ]
     },
     "execution_count": 8,
     "metadata": {},
     "output_type": "execute_result"
    }
   ],
   "source": [
    "wordvectors.most_similar_cosmul(positive=['jugar','cantaría'],negative=['cantar'])"
   ]
  },
  {
   "cell_type": "code",
   "execution_count": 9,
   "metadata": {},
   "outputs": [
    {
     "data": {
      "text/plain": [
       "[('iba', 0.8358239531517029),\n",
       " ('iría', 0.8330116868019104),\n",
       " ('iban', 0.8197974562644958),\n",
       " ('andaba', 0.8181521892547607),\n",
       " ('venía', 0.8127180933952332),\n",
       " ('pasaba', 0.806372880935669),\n",
       " ('salía', 0.8061624765396118),\n",
       " ('llegaba', 0.8007727861404419),\n",
       " ('ido', 0.8003631830215454),\n",
       " ('venían', 0.790458083152771)]"
      ]
     },
     "execution_count": 9,
     "metadata": {},
     "output_type": "execute_result"
    }
   ],
   "source": [
    "wordvectors.most_similar_cosmul(positive=['ir','jugaba'],negative=['jugar'])"
   ]
  },
  {
   "cell_type": "markdown",
   "metadata": {},
   "source": [
    "### Ejemplos de política"
   ]
  },
  {
   "cell_type": "code",
   "execution_count": 10,
   "metadata": {},
   "outputs": [
    {
     "data": {
      "text/plain": [
       "[('menem', 0.8302620649337769),\n",
       " ('perón', 0.8235861659049988),\n",
       " ('galtieri', 0.8023414611816406),\n",
       " ('onganía', 0.8013173937797546),\n",
       " ('videla', 0.7994171380996704),\n",
       " ('alfonsín', 0.7985163331031799),\n",
       " ('kirchner', 0.7978085279464722),\n",
       " ('kirchnerismo', 0.7961062788963318),\n",
       " ('dictador', 0.795034646987915),\n",
       " ('peronismo', 0.7945936322212219)]"
      ]
     },
     "execution_count": 10,
     "metadata": {},
     "output_type": "execute_result"
    }
   ],
   "source": [
    "wordvectors.most_similar_cosmul(positive=['pinochet','argentino'],negative=['chileno'])"
   ]
  },
  {
   "cell_type": "code",
   "execution_count": 11,
   "metadata": {},
   "outputs": [
    {
     "data": {
      "text/plain": [
       "[('fujimori', 0.879432737827301),\n",
       " ('leguía', 0.8281515836715698),\n",
       " ('dictador', 0.814770519733429),\n",
       " ('ollanta', 0.8126699328422546),\n",
       " ('humala', 0.80531907081604),\n",
       " ('apristas', 0.7981743812561035),\n",
       " ('odría', 0.7976544499397278),\n",
       " ('aprista', 0.7967919707298279),\n",
       " ('belaúnde', 0.7959150671958923),\n",
       " ('orbegoso', 0.7874271273612976)]"
      ]
     },
     "execution_count": 11,
     "metadata": {},
     "output_type": "execute_result"
    }
   ],
   "source": [
    "wordvectors.most_similar_cosmul(positive=['pinochet','peruano'],negative=['chileno'])"
   ]
  },
  {
   "cell_type": "code",
   "execution_count": 12,
   "metadata": {},
   "outputs": [
    {
     "data": {
      "text/plain": [
       "[('kirchner', 0.9510541558265686),\n",
       " ('mandataria', 0.8866869211196899),\n",
       " ('dilma', 0.8731293082237244),\n",
       " ('rousseff', 0.870695173740387),\n",
       " ('kirchnerista', 0.8655502200126648),\n",
       " ('duhalde', 0.8641150593757629),\n",
       " ('scioli', 0.856192946434021),\n",
       " ('alfonsín', 0.8515958189964294),\n",
       " ('perón', 0.8501841425895691),\n",
       " ('kirchnerismo', 0.8450447916984558)]"
      ]
     },
     "execution_count": 12,
     "metadata": {},
     "output_type": "execute_result"
    }
   ],
   "source": [
    "wordvectors.most_similar_cosmul(positive=['bachelet','argentina'],negative=['chile'])"
   ]
  },
  {
   "cell_type": "code",
   "execution_count": 13,
   "metadata": {},
   "outputs": [
    {
     "data": {
      "text/plain": [
       "[('dilma', 0.9780699610710144),\n",
       " ('rousseff', 0.9759045243263245),\n",
       " ('lula', 0.92941814661026),\n",
       " ('inácio', 0.8913270831108093),\n",
       " ('inacio', 0.8903253674507141),\n",
       " ('mandataria', 0.8615238666534424),\n",
       " ('kirchner', 0.8515970706939697),\n",
       " ('luiz', 0.8485301733016968),\n",
       " ('cavaco', 0.846683919429779),\n",
       " ('collor', 0.83381187915802)]"
      ]
     },
     "execution_count": 13,
     "metadata": {},
     "output_type": "execute_result"
    }
   ],
   "source": [
    "wordvectors.most_similar_cosmul(positive=['bachelet','brasil'],negative=['chile'])"
   ]
  },
  {
   "cell_type": "markdown",
   "metadata": {},
   "source": [
    "### Ejemplos capitales y países"
   ]
  },
  {
   "cell_type": "code",
   "execution_count": 14,
   "metadata": {},
   "outputs": [
    {
     "data": {
      "text/plain": [
       "[('caracas', 0.9048638343811035),\n",
       " ('barinas', 0.871845543384552),\n",
       " ('brión', 0.8565776944160461),\n",
       " ('cojedes', 0.8514757752418518),\n",
       " ('cumaná', 0.8507834672927856),\n",
       " ('guanare', 0.8507248759269714),\n",
       " ('maturín', 0.8474243879318237),\n",
       " ('mariño', 0.84685218334198),\n",
       " ('barquisimeto', 0.8451403975486755),\n",
       " ('falcón', 0.8430416584014893)]"
      ]
     },
     "execution_count": 14,
     "metadata": {},
     "output_type": "execute_result"
    }
   ],
   "source": [
    "wordvectors.most_similar_cosmul(positive=['santiago','venezuela'],negative=['chile'])"
   ]
  },
  {
   "cell_type": "code",
   "execution_count": 15,
   "metadata": {},
   "outputs": [
    {
     "data": {
      "text/plain": [
       "[('cuba', 0.9638005495071411),\n",
       " ('venezuela', 0.8891817331314087),\n",
       " ('colombia', 0.8762299418449402),\n",
       " ('cubana', 0.8471046686172485),\n",
       " ('nicaragua', 0.8443880081176758),\n",
       " ('cubanos', 0.8370179533958435),\n",
       " ('ecuador', 0.8361555337905884),\n",
       " ('brasil', 0.8355840444564819),\n",
       " ('cubano', 0.8315702080726624),\n",
       " ('panamá', 0.8302189111709595)]"
      ]
     },
     "execution_count": 15,
     "metadata": {},
     "output_type": "execute_result"
    }
   ],
   "source": [
    "wordvectors.most_similar_cosmul(positive=['habana','chile'],negative=['santiago'])"
   ]
  },
  {
   "cell_type": "markdown",
   "metadata": {},
   "source": [
    "## Word vectors en términos excluídos\n",
    "\n",
    "Ejemplo de uso: `doesnt_match(lista_palabras)`\n",
    "\n",
    "Esta llamada selecciona la palabra dentro de `listas_palabras` que está más lejana del resto de las palabras de la lista. La distancia es simplemente el ángulo entre las direcciones de los vectores de las palabras."
   ]
  },
  {
   "cell_type": "code",
   "execution_count": 16,
   "metadata": {},
   "outputs": [
    {
     "data": {
      "text/plain": [
       "'chile'"
      ]
     },
     "execution_count": 16,
     "metadata": {},
     "output_type": "execute_result"
    }
   ],
   "source": [
    "wordvectors.doesnt_match(['blanco','azul','rojo','chile'])"
   ]
  },
  {
   "cell_type": "code",
   "execution_count": 17,
   "metadata": {},
   "outputs": [
    {
     "data": {
      "text/plain": [
       "'almuerzo'"
      ]
     },
     "execution_count": 17,
     "metadata": {},
     "output_type": "execute_result"
    }
   ],
   "source": [
    "wordvectors.doesnt_match(['sol','luna','almuerzo','jupiter'])"
   ]
  },
  {
   "cell_type": "code",
   "execution_count": 18,
   "metadata": {},
   "outputs": [
    {
     "data": {
      "text/plain": [
       "'martes'"
      ]
     },
     "execution_count": 18,
     "metadata": {},
     "output_type": "execute_result"
    }
   ],
   "source": [
    "wordvectors.doesnt_match(['abril', 'mayo', 'septiembre', 'martes', 'julio'])"
   ]
  },
  {
   "cell_type": "code",
   "execution_count": 19,
   "metadata": {},
   "outputs": [
    {
     "data": {
      "text/plain": [
       "'septiembre'"
      ]
     },
     "execution_count": 19,
     "metadata": {},
     "output_type": "execute_result"
    }
   ],
   "source": [
    "wordvectors.doesnt_match(['lunes', 'martes', 'septiembre', 'jueves', 'viernes'])"
   ]
  },
  {
   "cell_type": "code",
   "execution_count": 20,
   "metadata": {},
   "outputs": [
    {
     "data": {
      "text/plain": [
       "'talca'"
      ]
     },
     "execution_count": 20,
     "metadata": {},
     "output_type": "execute_result"
    }
   ],
   "source": [
    "wordvectors.doesnt_match(['everton', 'cobreloa', 'huachipato', 'talca'])"
   ]
  },
  {
   "cell_type": "code",
   "execution_count": 21,
   "metadata": {},
   "outputs": [
    {
     "data": {
      "text/plain": [
       "'paris'"
      ]
     },
     "execution_count": 21,
     "metadata": {},
     "output_type": "execute_result"
    }
   ],
   "source": [
    "wordvectors.doesnt_match(['santiago', 'paris', 'talca', 'concepcion'])"
   ]
  },
  {
   "cell_type": "code",
   "execution_count": 22,
   "metadata": {},
   "outputs": [
    {
     "data": {
      "text/plain": [
       "'talca'"
      ]
     },
     "execution_count": 22,
     "metadata": {},
     "output_type": "execute_result"
    }
   ],
   "source": [
    "wordvectors.doesnt_match(['talca', 'paris', 'londres'])"
   ]
  }
 ],
 "metadata": {
  "kernelspec": {
   "display_name": "Python 3",
   "language": "python",
   "name": "python3"
  },
  "language_info": {
   "codemirror_mode": {
    "name": "ipython",
    "version": 3
   },
   "file_extension": ".py",
   "mimetype": "text/x-python",
   "name": "python",
   "nbconvert_exporter": "python",
   "pygments_lexer": "ipython3",
   "version": "3.6.0"
  }
 },
 "nbformat": 4,
 "nbformat_minor": 2
}
